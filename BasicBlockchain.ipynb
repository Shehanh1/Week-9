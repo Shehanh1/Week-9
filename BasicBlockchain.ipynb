{
 "cells": [
  {
   "cell_type": "code",
   "execution_count": 1,
   "id": "b072c0a3-f852-4fcb-815a-9bf3df5d0431",
   "metadata": {},
   "outputs": [],
   "source": [
    "from hashlib import sha256\n",
    "import json\n",
    "\n",
    "\n",
    "\n",
    "class Block:\n",
    "    def __init__(self, index, transactions, timestamp, previous_hash, nonce=0):\n",
    "        self.index = index\n",
    "        self.transactions = transactions\n",
    "        self.timestamp = timestamp\n",
    "        self.previous_hash = previous_hash\n",
    "        self.nonce = nonce\n",
    "        \n",
    "    def compute_hash(self):\n",
    "        block_string = json.dumps(self.__dict__, sort_keys=True)\n",
    "        return sha256(block_string.encode()).hexdigest()\n",
    "\n"
   ]
  },
  {
   "cell_type": "code",
   "execution_count": 2,
   "id": "ba28cf2b-c6ed-434e-a380-76a0a77ffaf2",
   "metadata": {},
   "outputs": [],
   "source": [
    "import time\n",
    "\n",
    "class Blockchain: \n",
    "    def __init__(self):\n",
    "        #write the code for unconfirmed_transactions property\n",
    "        self.unconfirmed_transactions = []\n",
    "        #write the code for chain property.\n",
    "        self.chain = []\n",
    "        #add and initialize the difficulty property. \n",
    "        self.difficulty = 2\n",
    "        self.create_genesis_block()\n",
    "       \n",
    "    def create_genesis_block(self):\n",
    "        genesis_block = Block(0, [], time.time(), \"0\")\n",
    "        genesis_block.hash = genesis_block.compute_hash()\n",
    "        self.chain.append(genesis_block)\n",
    "        \n",
    "    #define get_last_block\n",
    "    @property\n",
    "    def last_block(self):\n",
    "        return self.chain[-1]\n",
    "\n",
    "    #define proof_of_work(self, block:Block)\n",
    "    def proof_of_work(self, block):\n",
    "        block.nonce = 0\n",
    "        computed_hash = block.compute_hash()\n",
    "        while not computed_hash.startswith('0' * self.difficulty):\n",
    "            block.nonce += 1\n",
    "            computed_hash = block.compute_hash()\n",
    "        return computed_hash\n",
    "    \n",
    "   \n",
    "    #define is_valid_proof\n",
    "    def is_valid_proof(self, block, block_hash):\n",
    "         return (block_hash.startswith('0' * self.difficulty) and\n",
    "                block_hash == block.compute_hash())\n",
    "        \n",
    "    #define add_block\n",
    "    def add_block(self, block, proof):\n",
    "        previous_hash = self.last_block.hash\n",
    "        if previous_hash != block.previous_hash:\n",
    "            return False\n",
    "        if not self.is_valid_proof(block, proof):\n",
    "            return False\n",
    "        block.hash = proof\n",
    "        self.chain.append(block)\n",
    "        return True\n",
    "     \n",
    "     #define add_new_transaction\n",
    "    def add_new_transaction(self, transaction):\n",
    "            self.unconfirmed_transactions.append(transaction)\n",
    "    \n",
    "    \n",
    "     #define mine(self)\n",
    "    def mine(self):\n",
    "        if not self.unconfirmed_transactions:\n",
    "            return False\n",
    "        \n",
    "        last_block = self.last_block\n",
    "        \n",
    "        # Let's make sure we use our Block constructor to create a new block with all the transactions we want to mine \n",
    "        new_block = Block(index=last_block.index + 1,\n",
    "                          transactions=self.unconfirmed_transactions,\n",
    "                          timestamp=time.time(),\n",
    "                          previous_hash=last_block.hash)\n",
    "    \n",
    "     # Finally, let's be sure to use our handy proof_of_work function, add_block function, and to remember to reset our\n",
    "      # unconfirmed_transactions (our mem-pool), before returning our new block index;\n",
    "        proof = self.proof_of_work(new_block)\n",
    "        self.add_block(new_block, proof)\n",
    "        self.unconfirmed_transactions = []\n",
    "        return new_block.index\n",
    "    "
   ]
  },
  {
   "cell_type": "code",
   "execution_count": 3,
   "id": "f5b2a118-fce3-44e6-afa1-7be4cc11ccb8",
   "metadata": {},
   "outputs": [
    {
     "data": {
      "text/plain": [
       "1"
      ]
     },
     "execution_count": 3,
     "metadata": {},
     "output_type": "execute_result"
    }
   ],
   "source": [
    "blockchain=Blockchain()\n",
    "t1=blockchain.add_new_transaction(['Satoshi','Mike','5 BTC'])\n",
    "t2=blockchain.add_new_transaction(['Mike','Satoshi','1 BTC'])\n",
    "t3=blockchain.add_new_transaction(['Satoshi','Hal Finney','5 BTC'])\n",
    "blockchain.mine()"
   ]
  },
  {
   "cell_type": "code",
   "execution_count": 4,
   "id": "c13df94e-d003-4fd4-8e44-262f1415a9c2",
   "metadata": {},
   "outputs": [
    {
     "data": {
      "text/plain": [
       "2"
      ]
     },
     "execution_count": 4,
     "metadata": {},
     "output_type": "execute_result"
    }
   ],
   "source": [
    "t4=blockchain.add_new_transaction(['Shehanh','Sultan','10 BTC'])\n",
    "t5=blockchain.add_new_transaction(['Sultan','Shehanh','1 BTC'])\n",
    "t6=blockchain.add_new_transaction(['Shehanh','Hal Finney','20 BTC'])\n",
    "blockchain.mine()"
   ]
  },
  {
   "cell_type": "code",
   "execution_count": 5,
   "id": "8ab89388-5817-4b33-a8c1-1d86a8ff34bc",
   "metadata": {},
   "outputs": [
    {
     "data": {
      "text/plain": [
       "3"
      ]
     },
     "execution_count": 5,
     "metadata": {},
     "output_type": "execute_result"
    }
   ],
   "source": [
    "t7=blockchain.add_new_transaction(['Mona','Eyad','10 BTC'])\n",
    "t8=blockchain.add_new_transaction(['Eyad','Satoshi','1 BTC'])\n",
    "t9=blockchain.add_new_transaction(['Satoshi','Eyad','20 BTC'])\n",
    "blockchain.mine()"
   ]
  },
  {
   "cell_type": "code",
   "execution_count": null,
   "id": "9c08fd45-945f-40d5-bdd8-36617ec59966",
   "metadata": {},
   "outputs": [],
   "source": []
  }
 ],
 "metadata": {
  "kernelspec": {
   "display_name": "Python 3",
   "language": "python",
   "name": "python3"
  },
  "language_info": {
   "codemirror_mode": {
    "name": "ipython",
    "version": 3
   },
   "file_extension": ".py",
   "mimetype": "text/x-python",
   "name": "python",
   "nbconvert_exporter": "python",
   "pygments_lexer": "ipython3",
   "version": "3.8.2"
  }
 },
 "nbformat": 4,
 "nbformat_minor": 5
}
